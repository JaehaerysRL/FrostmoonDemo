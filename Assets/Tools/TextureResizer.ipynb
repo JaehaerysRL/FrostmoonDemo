{
 "cells": [
  {
   "cell_type": "markdown",
   "id": "ef5f2c2e",
   "metadata": {},
   "source": [
    "# 游戏贴图资源自适应超采样和锐化"
   ]
  },
  {
   "cell_type": "code",
   "execution_count": 5,
   "id": "cbd59a47",
   "metadata": {},
   "outputs": [],
   "source": [
    "import os\n",
    "from PIL import Image, ImageFilter"
   ]
  },
  {
   "cell_type": "code",
   "execution_count": 6,
   "id": "08770efe",
   "metadata": {},
   "outputs": [],
   "source": [
    "INPUT_DIR = './Res/TextureResizer/Input'\n",
    "OUTPUT_DIR = './Res/TextureResizer/Output'\n",
    "TARGET_SIZE = (200, 200)  # Target size for the images\n",
    "SHARPEN = True  # Whether to apply sharpening filter"
   ]
  },
  {
   "cell_type": "code",
   "execution_count": 7,
   "id": "ce7341b9",
   "metadata": {},
   "outputs": [],
   "source": [
    "def process_image(image_path, output_path):\n",
    "    with Image.open(image_path) as img:\n",
    "        # 计算最佳缩小比率\n",
    "        ratio = max(img.size[0]/TARGET_SIZE[0], img.size[1]/TARGET_SIZE[1])\n",
    "        # 分阶段缩小（保护像素特征）\n",
    "        while ratio > 2:\n",
    "            next_step = max(int(img.size[0]/2), int(img.size[1]/2))\n",
    "            img = img.resize((next_step, next_step), resample=Image.LANCZOS)\n",
    "            ratio = max(img.size[0]/TARGET_SIZE[0], img.size[1]/TARGET_SIZE[1])\n",
    "        # 最终精确缩放\n",
    "        img = img.resize(TARGET_SIZE, resample=Image.LANCZOS)\n",
    "        # 自适应锐化（基于图像内容）\n",
    "        if SHARPEN:\n",
    "            # 计算锐化强度（基于尺寸变化比例）\n",
    "            sharpen_intensity = min(3.0, (img.size[0] / TARGET_SIZE[0]) * 0.5)\n",
    "            \n",
    "            # 非均匀锐化掩模\n",
    "            img = img.filter(ImageFilter.UnsharpMask(\n",
    "                radius=2,\n",
    "                percent=int(150 * sharpen_intensity),\n",
    "                threshold=3\n",
    "            ))\n",
    "        # 保存处理后的图像\n",
    "        img.save(output_path, optimize=True, quality=95)"
   ]
  },
  {
   "cell_type": "code",
   "execution_count": null,
   "id": "cc2a34ac",
   "metadata": {},
   "outputs": [
    {
     "name": "stdout",
     "output_type": "stream",
     "text": [
      "Processed Frozenlake.png -> ./Res/TextureResizer/Output\\Frozenlake.png\n",
      "Processed Permafrost.png -> ./Res/TextureResizer/Output\\Permafrost.png\n",
      "Processed Shrub.png -> ./Res/TextureResizer/Output\\Shrub.png\n",
      "Processed Tundra.png -> ./Res/TextureResizer/Output\\Tundra.png\n"
     ]
    },
    {
     "ename": "",
     "evalue": "",
     "output_type": "error",
     "traceback": [
      "\u001b[1;31m在当前单元格或上一个单元格中执行代码时 Kernel 崩溃。\n",
      "\u001b[1;31m请查看单元格中的代码，以确定故障的可能原因。\n",
      "\u001b[1;31m单击<a href='https://aka.ms/vscodeJupyterKernelCrash'>此处</a>了解详细信息。\n",
      "\u001b[1;31m有关更多详细信息，请查看 Jupyter <a href='command:jupyter.viewOutput'>log</a>。"
     ]
    }
   ],
   "source": [
    "#遍历输入目录中的所有图像文件\n",
    "for filename in os.listdir(INPUT_DIR):\n",
    "    if filename.lower().endswith(('.png', '.jpg', '.jpeg', '.bmp')):\n",
    "        input_path = os.path.join(INPUT_DIR, filename)\n",
    "        output_path = os.path.join(OUTPUT_DIR, filename)\n",
    "        # 创建输出目录（如果不存在）\n",
    "        os.makedirs(OUTPUT_DIR, exist_ok=True)\n",
    "        # 处理图像\n",
    "        process_image(input_path, output_path)\n",
    "        print(f\"Processed {filename} -> {output_path}\")"
   ]
  }
 ],
 "metadata": {
  "kernelspec": {
   "display_name": "Python 3",
   "language": "python",
   "name": "python3"
  },
  "language_info": {
   "codemirror_mode": {
    "name": "ipython",
    "version": 3
   },
   "file_extension": ".py",
   "mimetype": "text/x-python",
   "name": "python",
   "nbconvert_exporter": "python",
   "pygments_lexer": "ipython3",
   "version": "3.8.8"
  }
 },
 "nbformat": 4,
 "nbformat_minor": 5
}
